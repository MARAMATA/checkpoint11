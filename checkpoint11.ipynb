{
 "cells": [
  {
   "cell_type": "code",
   "execution_count": null,
   "id": "84a44df8",
   "metadata": {},
   "outputs": [],
   "source": [
    "def supprimer_caracteres_communs(nom1, nom2):\n",
    "    # Convertir les noms en minuscules\n",
    "    nom1 = nom1.lower()\n",
    "    nom2 = nom2.lower()\n",
    "    \n",
    "    # Compter les occurrences de chaque caractère dans nom1\n",
    "    compteur1 = {}\n",
    "    for caractere in nom1:\n",
    "        compteur1[caractere] = compteur1.get(caractere, 0) + 1\n",
    "    \n",
    "    # Compter les occurrences de chaque caractère dans nom2 et supprimer les caractères communs\n",
    "    compteur2 = {}\n",
    "    for caractere in nom2:\n",
    "        if caractere in compteur1 and compteur1[caractere] > 0:\n",
    "            compteur1[caractere] -= 1\n",
    "        else:\n",
    "            compteur2[caractere] = compteur2.get(caractere, 0) + 1\n",
    "    \n",
    "    # Obtenir le compte total des caractères restants\n",
    "    compte_total = sum(compteur1.values()) + sum(compteur2.values())\n",
    "    \n",
    "    return compte_total\n",
    "\n",
    "# Exemple d'utilisation\n",
    "nom1 = \"AJAY\"\n",
    "nom2 = \"PRIYA\"\n",
    "compte = supprimer_caracteres_communs(nom1, nom2)\n",
    "print(\"Nombre de caractères restants :\", compte)\n"
   ]
  }
 ],
 "metadata": {
  "kernelspec": {
   "display_name": "Python 3 (ipykernel)",
   "language": "python",
   "name": "python3"
  },
  "language_info": {
   "codemirror_mode": {
    "name": "ipython",
    "version": 3
   },
   "file_extension": ".py",
   "mimetype": "text/x-python",
   "name": "python",
   "nbconvert_exporter": "python",
   "pygments_lexer": "ipython3",
   "version": "3.9.13"
  }
 },
 "nbformat": 4,
 "nbformat_minor": 5
}
